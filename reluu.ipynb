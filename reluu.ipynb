{
 "cells": [
  {
   "cell_type": "code",
   "execution_count": 104,
   "metadata": {},
   "outputs": [],
   "source": [
    "import pandas as pd\n",
    "from selenium import webdriver\n",
    "from selenium.webdriver.common.by import By\n",
    "from selenium.webdriver.support.ui import WebDriverWait\n",
    "from selenium.webdriver.support import expected_conditions as EC\n",
    "from selenium.common.exceptions import TimeoutException\n",
    "from selenium.webdriver.common.keys import Keys\n",
    "import time\n",
    "from selenium.webdriver.common.action_chains import ActionChains\n",
    "from webdriver_manager.chrome import ChromeDriverManager\n",
    "from selenium.webdriver.chrome.options import Options\n",
    "import re\n",
    "import json\n",
    "from tqdm.notebook import tqdm\n",
    "from datetime import datetime\n",
    "from dateutil.relativedelta import relativedelta\n",
    "from bs4 import BeautifulSoup\n",
    "from selenium.webdriver.chrome.service import Service\n",
    "import urllib\n",
    "import os , sys\n",
    "import psycopg2\n",
    "\n"
   ]
  },
  {
   "cell_type": "code",
   "execution_count": 105,
   "metadata": {},
   "outputs": [],
   "source": [
    "options = Options()\n",
    "options.add_experimental_option(\"excludeSwitches\", [\"enable-automation\"])\n",
    "options.add_experimental_option('useAutomationExtension', False)\n",
    "options.add_argument(\"--disable-blink-features=AutomationControlled\")\n",
    "options.add_argument(\"--disable-extensions\")\n",
    "options.add_argument(\"--proxy-server='direct://'\")\n",
    "options.add_argument(\"--proxy-bypass-list=*\")\n",
    "options.add_argument(\"--start-maximized\")\n",
    "options.add_argument('--headless')\n",
    "options.add_argument('--disable-gpu')\n",
    "options.add_argument('--disable-dev-shm-usage')\n",
    "options.add_argument('--no-sandbox')\n",
    "options.add_argument(\"--enable-javascript\")\n",
    "options.add_argument('--ignore-certificate-errors')\n",
    "options.add_argument('window-size=1800,1000')\n",
    "options.add_argument(\"--incognito\")"
   ]
  },
  {
   "cell_type": "code",
   "execution_count": 106,
   "metadata": {},
   "outputs": [],
   "source": [
    "def check_XPATH_exist(driver, xPATH):\n",
    "    try:\n",
    "        driver.find_element(By.XPATH, xPATH)\n",
    "        return True\n",
    "    except:\n",
    "        return False"
   ]
  },
  {
   "cell_type": "code",
   "execution_count": 107,
   "metadata": {},
   "outputs": [],
   "source": [
    "driver = webdriver.Chrome(service=Service('/home/ubuntu/chromedriver'), options=options)"
   ]
  },
  {
   "cell_type": "code",
   "execution_count": 108,
   "metadata": {},
   "outputs": [],
   "source": [
    "h=pd.read_excel('Amazon Scraping.xlsx')"
   ]
  },
  {
   "cell_type": "code",
   "execution_count": 114,
   "metadata": {},
   "outputs": [],
   "source": [
    "data=pd.DataFrame()\n",
    "data['product_title']=''\n",
    "data['product_image_url']=''\n",
    "data['product_details']=''\n",
    "data['product_price']=''"
   ]
  },
  {
   "cell_type": "code",
   "execution_count": null,
   "metadata": {},
   "outputs": [],
   "source": [
    "t=0\n",
    "for i in range(h.shape[0]):\n",
    "    driver.get(f\"https://www.amazon.{h['country'][i]}/dp/{h['Asin'][i]}\")\n",
    "    if check_XPATH_exist(driver,'//*[@id=\"productTitle\"]'):\n",
    "        title=driver.find_element(By.XPATH,'//*[@id=\"productTitle\"]').text \n",
    "        if check_XPATH_exist(driver,'//*[@class=\"a-size-base a-color-price a-color-price\"]'):\n",
    "            price=driver.find_element(By.XPATH,'//*[@class=\"a-size-base a-color-price a-color-price\"]').text\n",
    "        elif check_XPATH_exist(driver,'//*[@class=\"a-price aok-align-center reinventPricePriceToPayMargin priceToPay\"]'):\n",
    "            price=driver.find_element(By.XPATH,'//*[@class=\"a-price aok-align-center reinventPricePriceToPayMargin priceToPay\"]').text\n",
    "        elif check_XPATH_exist(driver,'//*[@class=\"a-color-base\"]'):\n",
    "            price=driver.find_element(By.XPATH,'//*[@class=\"a-color-base\"]').text\n",
    "        elif check_XPATH_exist(driver,'//*[@class=\"a-size-base a-color-secondary\"]'):\n",
    "            price=driver.find_element(By.XPATH,'//*[@class=\"a-size-base a-color-secondary\"]').text \n",
    "        if check_XPATH_exist(driver,'//*[@class=\"a-unordered-list a-nostyle a-vertical a-spacing-none detail-bullet-list\"]'):\n",
    "            details=driver.find_element(By.XPATH,'//*[@class=\"a-unordered-list a-nostyle a-vertical a-spacing-none detail-bullet-list\"]').text \n",
    "        if check_XPATH_exist(driver,'//img[@class=\"a-dynamic-image image-stretch-horizontal frontImage\"]'):\n",
    "            image_element = driver.find_element(By.XPATH,'''//img[@class=\"a-dynamic-image image-stretch-horizontal frontImage\"]''')\n",
    "            url= image_element.get_attribute(\"src\")\n",
    "        elif check_XPATH_exist(driver,'//img[@class=\"a-dynamic-image a-stretch-horizontal\"]'):\n",
    "            image_element = driver.find_element(By.XPATH,'''//img[@class=\"a-dynamic-image a-stretch-horizontal\"]''')\n",
    "            url= image_element.get_attribute(\"src\")\n",
    "            \n",
    "\n",
    "        data.loc[i,'product_title']=title\n",
    "        data.loc[i,'product_price']=price\n",
    "        data.loc[i,'product_details']=details\n",
    "        data.loc[i,'product_image_url']=url\n",
    "    \n",
    "                \n",
    "    else:\n",
    "        print('Error 404')\n",
    "    if i % 100 != 0:\n",
    "        d+=time.process_time()\n",
    "        t=d-t\n",
    "    elif i % 100 == 0:\n",
    "        d=0\n",
    "        d+=time.process_time()\n",
    "        print(f\"Execution Time: {t} seconds\")\n",
    "        t=d\n",
    "    elif i==h.shape[0]:\n",
    "        print(f\"Execution Time: {t} seconds\")\n",
    "\n",
    "        \n",
    "    "
   ]
  },
  {
   "cell_type": "code",
   "execution_count": 116,
   "metadata": {},
   "outputs": [],
   "source": [
    "data['product_details']=data['product_details'].apply(lambda x:x.replace('\\n',', '))"
   ]
  },
  {
   "cell_type": "code",
   "execution_count": 117,
   "metadata": {},
   "outputs": [
    {
     "data": {
      "text/html": [
       "<div>\n",
       "<style scoped>\n",
       "    .dataframe tbody tr th:only-of-type {\n",
       "        vertical-align: middle;\n",
       "    }\n",
       "\n",
       "    .dataframe tbody tr th {\n",
       "        vertical-align: top;\n",
       "    }\n",
       "\n",
       "    .dataframe thead th {\n",
       "        text-align: right;\n",
       "    }\n",
       "</style>\n",
       "<table border=\"1\" class=\"dataframe\">\n",
       "  <thead>\n",
       "    <tr style=\"text-align: right;\">\n",
       "      <th></th>\n",
       "      <th>product_title</th>\n",
       "      <th>product_image_url</th>\n",
       "      <th>product_details</th>\n",
       "      <th>product_price</th>\n",
       "    </tr>\n",
       "  </thead>\n",
       "  <tbody>\n",
       "    <tr>\n",
       "      <th>2</th>\n",
       "      <td>Old Spice Rasur Creme - 70 G (original) - Pack...</td>\n",
       "      <td>https://m.media-amazon.com/images/I/41xHbjdSXJ...</td>\n",
       "      <td>Auslaufartikel (Produktion durch Hersteller ei...</td>\n",
       "      <td>8\\n00€</td>\n",
       "    </tr>\n",
       "    <tr>\n",
       "      <th>16</th>\n",
       "      <td>Short Story: Violoncello und Klavier. (Cello-B...</td>\n",
       "      <td>https://m.media-amazon.com/images/I/41fD+K43Lc...</td>\n",
       "      <td>Herausgeber : SCHOTT MUSIC GmbH &amp; Co KG, Mainz...</td>\n",
       "      <td>ab 11,50 €</td>\n",
       "    </tr>\n",
       "    <tr>\n",
       "      <th>17</th>\n",
       "      <td>Short Story: cello and piano.</td>\n",
       "      <td>https://m.media-amazon.com/images/I/41fD+K43Lc...</td>\n",
       "      <td>Éditeur : Schott (1 janvier 2000), Langue : Fr...</td>\n",
       "      <td>à partir de 23,94 €</td>\n",
       "    </tr>\n",
       "    <tr>\n",
       "      <th>20</th>\n",
       "      <td>Concerto grosso g-Moll: Weihnachtskonzert. op....</td>\n",
       "      <td>https://m.media-amazon.com/images/I/51sNFyf2t6...</td>\n",
       "      <td>Herausgeber : SCHOTT MUSIC GmbH &amp; Co KG, Mainz...</td>\n",
       "      <td>18,00 €</td>\n",
       "    </tr>\n",
       "    <tr>\n",
       "      <th>21</th>\n",
       "      <td>Concerto grosso G Minor: Christmas Concerto. o...</td>\n",
       "      <td>https://m.media-amazon.com/images/I/51sNFyf2t6...</td>\n",
       "      <td>Éditeur : Schott (1 janvier 2000), Langue : Fr...</td>\n",
       "      <td>30,99 €</td>\n",
       "    </tr>\n",
       "    <tr>\n",
       "      <th>...</th>\n",
       "      <td>...</td>\n",
       "      <td>...</td>\n",
       "      <td>...</td>\n",
       "      <td>...</td>\n",
       "    </tr>\n",
       "    <tr>\n",
       "      <th>847</th>\n",
       "      <td>Stucke(3) op.142 orgue</td>\n",
       "      <td>https://m.media-amazon.com/images/I/51jcnDzKub...</td>\n",
       "      <td>Éditeur : BREITKOPF (1 janvier 2000), Langue :...</td>\n",
       "      <td>18,15 €</td>\n",
       "    </tr>\n",
       "    <tr>\n",
       "      <th>894</th>\n",
       "      <td>L'ARLESIENNE-SUITE NR. 2 ORCHESTRE</td>\n",
       "      <td>https://m.media-amazon.com/images/I/71NgDgoW-k...</td>\n",
       "      <td>Herausgeber : BREITKOPF (1. Januar 2000), Spra...</td>\n",
       "      <td>43,60 €</td>\n",
       "    </tr>\n",
       "    <tr>\n",
       "      <th>895</th>\n",
       "      <td>L'arlesienne-suite nr. 2 orchestre</td>\n",
       "      <td>https://m.media-amazon.com/images/I/41ELX18MMV...</td>\n",
       "      <td>Éditeur : BREITKOPF (1 janvier 2000), Langue :...</td>\n",
       "      <td>52,13 €</td>\n",
       "    </tr>\n",
       "    <tr>\n",
       "      <th>910</th>\n",
       "      <td>EIN DEUTSCHES REQUIEM 2 KLAV</td>\n",
       "      <td>https://m.media-amazon.com/images/I/71U21ngbbv...</td>\n",
       "      <td>Herausgeber : BREITKOPF (1. Januar 2000), Spra...</td>\n",
       "      <td>92,00 €</td>\n",
       "    </tr>\n",
       "    <tr>\n",
       "      <th>911</th>\n",
       "      <td>Ein deutsches requiem 2 klav</td>\n",
       "      <td>https://m.media-amazon.com/images/I/41kvwEvPVp...</td>\n",
       "      <td>Éditeur : BREITKOPF (1 janvier 2000), Langue :...</td>\n",
       "      <td>à partir de 205,99 €</td>\n",
       "    </tr>\n",
       "  </tbody>\n",
       "</table>\n",
       "<p>93 rows × 4 columns</p>\n",
       "</div>"
      ],
      "text/plain": [
       "                                         product_title  \\\n",
       "2    Old Spice Rasur Creme - 70 G (original) - Pack...   \n",
       "16   Short Story: Violoncello und Klavier. (Cello-B...   \n",
       "17                       Short Story: cello and piano.   \n",
       "20   Concerto grosso g-Moll: Weihnachtskonzert. op....   \n",
       "21   Concerto grosso G Minor: Christmas Concerto. o...   \n",
       "..                                                 ...   \n",
       "847                             Stucke(3) op.142 orgue   \n",
       "894                 L'ARLESIENNE-SUITE NR. 2 ORCHESTRE   \n",
       "895                 L'arlesienne-suite nr. 2 orchestre   \n",
       "910                       EIN DEUTSCHES REQUIEM 2 KLAV   \n",
       "911                       Ein deutsches requiem 2 klav   \n",
       "\n",
       "                                     product_image_url  \\\n",
       "2    https://m.media-amazon.com/images/I/41xHbjdSXJ...   \n",
       "16   https://m.media-amazon.com/images/I/41fD+K43Lc...   \n",
       "17   https://m.media-amazon.com/images/I/41fD+K43Lc...   \n",
       "20   https://m.media-amazon.com/images/I/51sNFyf2t6...   \n",
       "21   https://m.media-amazon.com/images/I/51sNFyf2t6...   \n",
       "..                                                 ...   \n",
       "847  https://m.media-amazon.com/images/I/51jcnDzKub...   \n",
       "894  https://m.media-amazon.com/images/I/71NgDgoW-k...   \n",
       "895  https://m.media-amazon.com/images/I/41ELX18MMV...   \n",
       "910  https://m.media-amazon.com/images/I/71U21ngbbv...   \n",
       "911  https://m.media-amazon.com/images/I/41kvwEvPVp...   \n",
       "\n",
       "                                       product_details         product_price  \n",
       "2    Auslaufartikel (Produktion durch Hersteller ei...                8\\n00€  \n",
       "16   Herausgeber : SCHOTT MUSIC GmbH & Co KG, Mainz...            ab 11,50 €  \n",
       "17   Éditeur : Schott (1 janvier 2000), Langue : Fr...   à partir de 23,94 €  \n",
       "20   Herausgeber : SCHOTT MUSIC GmbH & Co KG, Mainz...               18,00 €  \n",
       "21   Éditeur : Schott (1 janvier 2000), Langue : Fr...               30,99 €  \n",
       "..                                                 ...                   ...  \n",
       "847  Éditeur : BREITKOPF (1 janvier 2000), Langue :...               18,15 €  \n",
       "894  Herausgeber : BREITKOPF (1. Januar 2000), Spra...               43,60 €  \n",
       "895  Éditeur : BREITKOPF (1 janvier 2000), Langue :...               52,13 €  \n",
       "910  Herausgeber : BREITKOPF (1. Januar 2000), Spra...               92,00 €  \n",
       "911  Éditeur : BREITKOPF (1 janvier 2000), Langue :...  à partir de 205,99 €  \n",
       "\n",
       "[93 rows x 4 columns]"
      ]
     },
     "execution_count": 117,
     "metadata": {},
     "output_type": "execute_result"
    }
   ],
   "source": [
    "data"
   ]
  },
  {
   "cell_type": "code",
   "execution_count": 118,
   "metadata": {},
   "outputs": [],
   "source": [
    "data.reset_index(inplace=True,drop=True)"
   ]
  },
  {
   "cell_type": "code",
   "execution_count": 119,
   "metadata": {},
   "outputs": [],
   "source": [
    "\n",
    "\n",
    "amz = {}\n",
    "for j, row in data.iterrows():\n",
    "    ldata = {\n",
    "        \"product_title\": row[\"product_title\"],\n",
    "        \"url\": row[\"product_image_url\"],\n",
    "        \"product_details\": row[\"product_details\"],\n",
    "        \"product_price\": row[\"product_price\"],\n",
    "    }\n",
    "    id = j\n",
    "    \n",
    "    if id not in amz:\n",
    "        amz[id] = []\n",
    "    \n",
    "    amz[id].append(ldata)\n"
   ]
  },
  {
   "cell_type": "code",
   "execution_count": 120,
   "metadata": {},
   "outputs": [
    {
     "name": "stdout",
     "output_type": "stream",
     "text": [
      "JSON file created: solution.json\n"
     ]
    }
   ],
   "source": [
    "#creating Json file\n",
    "file_path = \"solution.json\"\n",
    "\n",
    "with open(file_path, 'w') as json_file:\n",
    "    json.dump(amz, json_file,indent=4)\n",
    "\n",
    "print(f\"JSON file created: {file_path}\")\n"
   ]
  },
  {
   "cell_type": "code",
   "execution_count": 62,
   "metadata": {},
   "outputs": [],
   "source": [
    "conn = psycopg2.connect(\n",
    "    host='localhost',\n",
    "    port='5432',\n",
    "    database='jais',\n",
    "    user='postgres',\n",
    "    password='1234'\n",
    ")\n",
    "cursor = conn.cursor()\n"
   ]
  },
  {
   "cell_type": "code",
   "execution_count": 63,
   "metadata": {},
   "outputs": [],
   "source": [
    "create_table_query = \"\"\"\n",
    "CREATE TABLE IF NOT EXISTS dataamazon (\n",
    "    id SERIAL PRIMARY KEY,\n",
    "    product_title VARCHAR(255),\n",
    "    product_price VARCHAR(255),\n",
    "    product_details TEXT,\n",
    "    product_image_url VARCHAR(255)\n",
    ")\n",
    "\"\"\"\n",
    "cursor.execute(create_table_query)\n",
    "\n"
   ]
  },
  {
   "cell_type": "code",
   "execution_count": 64,
   "metadata": {},
   "outputs": [],
   "source": [
    "data_tuples = [tuple(x) for x in data.values]\n"
   ]
  },
  {
   "cell_type": "code",
   "execution_count": 65,
   "metadata": {},
   "outputs": [],
   "source": [
    "insert_query = \"\"\"\n",
    "INSERT INTO dataamazon (product_title, product_price, product_details, product_image_url)\n",
    "VALUES (%s, %s, %s, %s)\n",
    "\"\"\"\n"
   ]
  },
  {
   "cell_type": "code",
   "execution_count": 66,
   "metadata": {},
   "outputs": [],
   "source": [
    "cursor.executemany(insert_query, data_tuples)\n"
   ]
  },
  {
   "cell_type": "code",
   "execution_count": 67,
   "metadata": {},
   "outputs": [
    {
     "name": "stdout",
     "output_type": "stream",
     "text": [
      "data ingested\n"
     ]
    }
   ],
   "source": [
    "conn.commit()\n",
    "print('data ingested')\n",
    "\n",
    "# Close the cursor and the database connection\n",
    "cursor.close()\n",
    "conn.close()\n"
   ]
  },
  {
   "cell_type": "code",
   "execution_count": 121,
   "metadata": {},
   "outputs": [
    {
     "data": {
      "text/html": [
       "<div>\n",
       "<style scoped>\n",
       "    .dataframe tbody tr th:only-of-type {\n",
       "        vertical-align: middle;\n",
       "    }\n",
       "\n",
       "    .dataframe tbody tr th {\n",
       "        vertical-align: top;\n",
       "    }\n",
       "\n",
       "    .dataframe thead th {\n",
       "        text-align: right;\n",
       "    }\n",
       "</style>\n",
       "<table border=\"1\" class=\"dataframe\">\n",
       "  <thead>\n",
       "    <tr style=\"text-align: right;\">\n",
       "      <th></th>\n",
       "      <th>product_title</th>\n",
       "      <th>product_image_url</th>\n",
       "      <th>product_details</th>\n",
       "      <th>product_price</th>\n",
       "    </tr>\n",
       "  </thead>\n",
       "  <tbody>\n",
       "    <tr>\n",
       "      <th>0</th>\n",
       "      <td>Old Spice Rasur Creme - 70 G (original) - Pack...</td>\n",
       "      <td>https://m.media-amazon.com/images/I/41xHbjdSXJ...</td>\n",
       "      <td>Auslaufartikel (Produktion durch Hersteller ei...</td>\n",
       "      <td>8\\n00€</td>\n",
       "    </tr>\n",
       "    <tr>\n",
       "      <th>1</th>\n",
       "      <td>Short Story: Violoncello und Klavier. (Cello-B...</td>\n",
       "      <td>https://m.media-amazon.com/images/I/41fD+K43Lc...</td>\n",
       "      <td>Herausgeber : SCHOTT MUSIC GmbH &amp; Co KG, Mainz...</td>\n",
       "      <td>ab 11,50 €</td>\n",
       "    </tr>\n",
       "    <tr>\n",
       "      <th>2</th>\n",
       "      <td>Short Story: cello and piano.</td>\n",
       "      <td>https://m.media-amazon.com/images/I/41fD+K43Lc...</td>\n",
       "      <td>Éditeur : Schott (1 janvier 2000), Langue : Fr...</td>\n",
       "      <td>à partir de 23,94 €</td>\n",
       "    </tr>\n",
       "    <tr>\n",
       "      <th>3</th>\n",
       "      <td>Concerto grosso g-Moll: Weihnachtskonzert. op....</td>\n",
       "      <td>https://m.media-amazon.com/images/I/51sNFyf2t6...</td>\n",
       "      <td>Herausgeber : SCHOTT MUSIC GmbH &amp; Co KG, Mainz...</td>\n",
       "      <td>18,00 €</td>\n",
       "    </tr>\n",
       "    <tr>\n",
       "      <th>4</th>\n",
       "      <td>Concerto grosso G Minor: Christmas Concerto. o...</td>\n",
       "      <td>https://m.media-amazon.com/images/I/51sNFyf2t6...</td>\n",
       "      <td>Éditeur : Schott (1 janvier 2000), Langue : Fr...</td>\n",
       "      <td>30,99 €</td>\n",
       "    </tr>\n",
       "    <tr>\n",
       "      <th>...</th>\n",
       "      <td>...</td>\n",
       "      <td>...</td>\n",
       "      <td>...</td>\n",
       "      <td>...</td>\n",
       "    </tr>\n",
       "    <tr>\n",
       "      <th>88</th>\n",
       "      <td>Stucke(3) op.142 orgue</td>\n",
       "      <td>https://m.media-amazon.com/images/I/51jcnDzKub...</td>\n",
       "      <td>Éditeur : BREITKOPF (1 janvier 2000), Langue :...</td>\n",
       "      <td>18,15 €</td>\n",
       "    </tr>\n",
       "    <tr>\n",
       "      <th>89</th>\n",
       "      <td>L'ARLESIENNE-SUITE NR. 2 ORCHESTRE</td>\n",
       "      <td>https://m.media-amazon.com/images/I/71NgDgoW-k...</td>\n",
       "      <td>Herausgeber : BREITKOPF (1. Januar 2000), Spra...</td>\n",
       "      <td>43,60 €</td>\n",
       "    </tr>\n",
       "    <tr>\n",
       "      <th>90</th>\n",
       "      <td>L'arlesienne-suite nr. 2 orchestre</td>\n",
       "      <td>https://m.media-amazon.com/images/I/41ELX18MMV...</td>\n",
       "      <td>Éditeur : BREITKOPF (1 janvier 2000), Langue :...</td>\n",
       "      <td>52,13 €</td>\n",
       "    </tr>\n",
       "    <tr>\n",
       "      <th>91</th>\n",
       "      <td>EIN DEUTSCHES REQUIEM 2 KLAV</td>\n",
       "      <td>https://m.media-amazon.com/images/I/71U21ngbbv...</td>\n",
       "      <td>Herausgeber : BREITKOPF (1. Januar 2000), Spra...</td>\n",
       "      <td>92,00 €</td>\n",
       "    </tr>\n",
       "    <tr>\n",
       "      <th>92</th>\n",
       "      <td>Ein deutsches requiem 2 klav</td>\n",
       "      <td>https://m.media-amazon.com/images/I/41kvwEvPVp...</td>\n",
       "      <td>Éditeur : BREITKOPF (1 janvier 2000), Langue :...</td>\n",
       "      <td>à partir de 205,99 €</td>\n",
       "    </tr>\n",
       "  </tbody>\n",
       "</table>\n",
       "<p>93 rows × 4 columns</p>\n",
       "</div>"
      ],
      "text/plain": [
       "                                        product_title  \\\n",
       "0   Old Spice Rasur Creme - 70 G (original) - Pack...   \n",
       "1   Short Story: Violoncello und Klavier. (Cello-B...   \n",
       "2                       Short Story: cello and piano.   \n",
       "3   Concerto grosso g-Moll: Weihnachtskonzert. op....   \n",
       "4   Concerto grosso G Minor: Christmas Concerto. o...   \n",
       "..                                                ...   \n",
       "88                             Stucke(3) op.142 orgue   \n",
       "89                 L'ARLESIENNE-SUITE NR. 2 ORCHESTRE   \n",
       "90                 L'arlesienne-suite nr. 2 orchestre   \n",
       "91                       EIN DEUTSCHES REQUIEM 2 KLAV   \n",
       "92                       Ein deutsches requiem 2 klav   \n",
       "\n",
       "                                    product_image_url  \\\n",
       "0   https://m.media-amazon.com/images/I/41xHbjdSXJ...   \n",
       "1   https://m.media-amazon.com/images/I/41fD+K43Lc...   \n",
       "2   https://m.media-amazon.com/images/I/41fD+K43Lc...   \n",
       "3   https://m.media-amazon.com/images/I/51sNFyf2t6...   \n",
       "4   https://m.media-amazon.com/images/I/51sNFyf2t6...   \n",
       "..                                                ...   \n",
       "88  https://m.media-amazon.com/images/I/51jcnDzKub...   \n",
       "89  https://m.media-amazon.com/images/I/71NgDgoW-k...   \n",
       "90  https://m.media-amazon.com/images/I/41ELX18MMV...   \n",
       "91  https://m.media-amazon.com/images/I/71U21ngbbv...   \n",
       "92  https://m.media-amazon.com/images/I/41kvwEvPVp...   \n",
       "\n",
       "                                      product_details         product_price  \n",
       "0   Auslaufartikel (Produktion durch Hersteller ei...                8\\n00€  \n",
       "1   Herausgeber : SCHOTT MUSIC GmbH & Co KG, Mainz...            ab 11,50 €  \n",
       "2   Éditeur : Schott (1 janvier 2000), Langue : Fr...   à partir de 23,94 €  \n",
       "3   Herausgeber : SCHOTT MUSIC GmbH & Co KG, Mainz...               18,00 €  \n",
       "4   Éditeur : Schott (1 janvier 2000), Langue : Fr...               30,99 €  \n",
       "..                                                ...                   ...  \n",
       "88  Éditeur : BREITKOPF (1 janvier 2000), Langue :...               18,15 €  \n",
       "89  Herausgeber : BREITKOPF (1. Januar 2000), Spra...               43,60 €  \n",
       "90  Éditeur : BREITKOPF (1 janvier 2000), Langue :...               52,13 €  \n",
       "91  Herausgeber : BREITKOPF (1. Januar 2000), Spra...               92,00 €  \n",
       "92  Éditeur : BREITKOPF (1 janvier 2000), Langue :...  à partir de 205,99 €  \n",
       "\n",
       "[93 rows x 4 columns]"
      ]
     },
     "execution_count": 121,
     "metadata": {},
     "output_type": "execute_result"
    }
   ],
   "source": [
    "data"
   ]
  },
  {
   "cell_type": "code",
   "execution_count": 122,
   "metadata": {},
   "outputs": [
    {
     "name": "stdout",
     "output_type": "stream",
     "text": [
      "{'name': 'DESKTOP-92USQB8', 'cluster_name': 'elasticsearch', 'cluster_uuid': 'v071lW7iRCGj6iQrac2Vsw', 'version': {'number': '8.7.0', 'build_flavor': 'default', 'build_type': 'zip', 'build_hash': '09520b59b6bc1057340b55750186466ea715e30e', 'build_date': '2023-03-27T16:31:09.816451435Z', 'build_snapshot': False, 'lucene_version': '9.5.0', 'minimum_wire_compatibility_version': '7.17.0', 'minimum_index_compatibility_version': '7.0.0'}, 'tagline': 'You Know, for Search'}\n"
     ]
    },
    {
     "name": "stderr",
     "output_type": "stream",
     "text": [
      "C:\\Users\\vkray\\AppData\\Local\\Packages\\PythonSoftwareFoundation.Python.3.9_qbz5n2kfra8p0\\LocalCache\\local-packages\\Python39\\site-packages\\elasticsearch\\_sync\\client\\__init__.py:395: SecurityWarning: Connecting to 'https://localhost:9200' using TLS with verify_certs=False is insecure\n",
      "  _transport = transport_class(\n"
     ]
    }
   ],
   "source": [
    "from elasticsearch import Elasticsearch\n",
    "es = Elasticsearch(hosts=[\"https://localhost:9200\"], basic_auth=['elastic', '6TsTDCFqEuLyR8UdykMi'], verify_certs=False)\n",
    "print(es.info())"
   ]
  },
  {
   "cell_type": "code",
   "execution_count": 124,
   "metadata": {},
   "outputs": [
    {
     "name": "stderr",
     "output_type": "stream",
     "text": [
      "C:\\Users\\vkray\\AppData\\Local\\Packages\\PythonSoftwareFoundation.Python.3.9_qbz5n2kfra8p0\\LocalCache\\local-packages\\Python39\\site-packages\\elasticsearch\\_sync\\client\\__init__.py:395: SecurityWarning: Connecting to 'https://127.0.0.1:9200' using TLS with verify_certs=False is insecure\n",
      "  _transport = transport_class(\n",
      "C:\\Users\\vkray\\AppData\\Local\\Temp\\ipykernel_10184\\275136405.py:14: DeprecationWarning: The 'body' parameter is deprecated and will be removed in a future version. Instead use the 'document' parameter. See https://github.com/elastic/elasticsearch-py/issues/1698 for more information\n",
      "  es.index(index=index_name, body=doc)\n"
     ]
    }
   ],
   "source": [
    "from elasticsearch import Elasticsearch\n",
    "import pandas as pd\n",
    "import json\n",
    "\n",
    "es = Elasticsearch(['https://127.0.0.1:9200'],basic_auth=['elastic', '6TsTDCFqEuLyR8UdykMi'], verify_certs=False)\n",
    "\n",
    "index_name = \"amazdata\"\n",
    "\n",
    "\n",
    "\n",
    "data1 = data.to_dict(orient='records')\n",
    "\n",
    "for doc in data1:\n",
    "    es.index(index=index_name, body=doc)\n"
   ]
  },
  {
   "cell_type": "code",
   "execution_count": null,
   "metadata": {},
   "outputs": [],
   "source": []
  }
 ],
 "metadata": {
  "kernelspec": {
   "display_name": "Python 3",
   "language": "python",
   "name": "python3"
  },
  "language_info": {
   "codemirror_mode": {
    "name": "ipython",
    "version": 3
   },
   "file_extension": ".py",
   "mimetype": "text/x-python",
   "name": "python",
   "nbconvert_exporter": "python",
   "pygments_lexer": "ipython3",
   "version": "3.9.13"
  },
  "orig_nbformat": 4
 },
 "nbformat": 4,
 "nbformat_minor": 2
}
